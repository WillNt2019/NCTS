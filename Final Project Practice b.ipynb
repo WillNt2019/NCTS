{
 "cells": [
  {
   "cell_type": "markdown",
   "metadata": {},
   "source": [
    "### b. 以人眼去除 果樹 圖片, 只剩 (水果), 訓練後的準確率 61%."
   ]
  },
  {
   "cell_type": "code",
   "execution_count": null,
   "metadata": {},
   "outputs": [],
   "source": [
    "# 載入圖檔處理\n",
    "import glob\n",
    "import os\n",
    "import cv2 # pip install opencv-python"
   ]
  },
  {
   "cell_type": "code",
   "execution_count": 2,
   "metadata": {},
   "outputs": [
    {
     "name": "stdout",
     "output_type": "stream",
     "text": [
      "env: KERAS_BACKEND=tensorflow\n"
     ]
    }
   ],
   "source": [
    "%env KERAS_BACKEND=tensorflow"
   ]
  },
  {
   "cell_type": "code",
   "execution_count": 3,
   "metadata": {},
   "outputs": [],
   "source": [
    "%matplotlib inline\n",
    "\n",
    "import numpy as np\n",
    "import matplotlib.pyplot as plt\n",
    "import pandas as pd"
   ]
  },
  {
   "cell_type": "code",
   "execution_count": 4,
   "metadata": {},
   "outputs": [
    {
     "name": "stderr",
     "output_type": "stream",
     "text": [
      "Using TensorFlow backend.\n"
     ]
    }
   ],
   "source": [
    "# Keras functions\n",
    "import keras\n",
    "from keras.models import Sequential\n",
    "from keras.layers import Dense, Activation, Flatten\n",
    "from keras.layers import Conv2D, MaxPool2D\n",
    "from keras.layers import Dropout, BatchNormalization\n",
    "from keras.optimizers import Adadelta"
   ]
  },
  {
   "cell_type": "code",
   "execution_count": 5,
   "metadata": {},
   "outputs": [],
   "source": [
    "# 載入並讀取 image 及 label id, target lable\n",
    "def load_dataset(path):\n",
    "    temp_img = []\n",
    "    temp_label = []\n",
    "    for os_path in glob.glob(path):\n",
    "        img_label = os_path.split(\"/\")[-1]\n",
    "        for image_path in glob.glob(os.path.join(os_path, \"*.jpg\")):\n",
    "            image = cv2.imread(image_path, cv2.IMREAD_COLOR)\n",
    "            image = cv2.resize(image, (64, 64))\n",
    "            image = cv2.cvtColor(image, cv2.COLOR_RGB2BGR)\n",
    "            temp_img.append(image)\n",
    "            temp_label.append(img_label.split(\"\\\\\")[-1])\n",
    "    \n",
    "    temp_id = {v:k for k,v in enumerate(np.unique(np.array(temp_label)))}    \n",
    "    label_id = np.array([temp_id[i] for i in np.array(temp_label)])\n",
    "    target_label = {v:k for k,v in temp_id.items()}\n",
    "\n",
    "    return np.array(temp_img), label_id, target_label"
   ]
  },
  {
   "cell_type": "code",
   "execution_count": 6,
   "metadata": {},
   "outputs": [],
   "source": [
    "x_train, y_train, target_label = load_dataset(\"FruitsImage/Training/*\")"
   ]
  },
  {
   "cell_type": "code",
   "execution_count": 7,
   "metadata": {},
   "outputs": [
    {
     "data": {
      "text/plain": [
       "((1653, 64, 64, 3), 1653, 1653, 14)"
      ]
     },
     "execution_count": 7,
     "metadata": {},
     "output_type": "execute_result"
    }
   ],
   "source": [
    "x_train.shape, len(x_train), len(y_train), len(target_label)"
   ]
  },
  {
   "cell_type": "code",
   "execution_count": 8,
   "metadata": {},
   "outputs": [],
   "source": [
    "x_test, y_test, _ = load_dataset(\"FruitsImage/Test/*\")"
   ]
  },
  {
   "cell_type": "code",
   "execution_count": 9,
   "metadata": {},
   "outputs": [
    {
     "data": {
      "text/plain": [
       "((515, 64, 64, 3), 515, 515, 14)"
      ]
     },
     "execution_count": 9,
     "metadata": {},
     "output_type": "execute_result"
    }
   ],
   "source": [
    "x_test.shape, len(x_test), len(y_test), len(_)"
   ]
  },
  {
   "cell_type": "code",
   "execution_count": 10,
   "metadata": {},
   "outputs": [],
   "source": [
    "# 資料整理 正規化 將資料線性單位化至  [0,1] 。\n",
    "x_train = (x_train - x_train.min()) / (x_train.max() - x_train.min())\n",
    "x_test = (x_test - x_test.min()) / (x_test.max() - x_test.min())\n",
    "\n",
    "y_train = keras.utils.to_categorical(y_train, 14)\n",
    "y_test = keras.utils.to_categorical(y_test, 14)"
   ]
  },
  {
   "cell_type": "code",
   "execution_count": 11,
   "metadata": {},
   "outputs": [
    {
     "name": "stdout",
     "output_type": "stream",
     "text": [
      "(64, 64, 3)\n"
     ]
    },
    {
     "data": {
      "image/png": "[encoded data removed]",
      "text/plain": [
       "<Figure size 432x288 with 1 Axes>"
      ]
     },
     "metadata": {
      "needs_background": "light"
     },
     "output_type": "display_data"
    }
   ],
   "source": [
    "# 看看圖片樣子\n",
    "print(x_train[300].shape)\n",
    "plt.imshow(x_train[300])\n",
    "plt.show()"
   ]
  },
  {
   "cell_type": "code",
   "execution_count": 12,
   "metadata": {},
   "outputs": [
    {
     "name": "stdout",
     "output_type": "stream",
     "text": [
      "WARNING:tensorflow:From C:\\Users\\Will\\Anaconda3\\lib\\site-packages\\tensorflow\\python\\framework\\op_def_library.py:263: colocate_with (from tensorflow.python.framework.ops) is deprecated and will be removed in a future version.\n",
      "Instructions for updating:\n",
      "Colocations handled automatically by placer.\n",
      "WARNING:tensorflow:From C:\\Users\\Will\\Anaconda3\\lib\\site-packages\\keras\\backend\\tensorflow_backend.py:3445: calling dropout (from tensorflow.python.ops.nn_ops) with keep_prob is deprecated and will be removed in a future version.\n",
      "Instructions for updating:\n",
      "Please use `rate` instead of `keep_prob`. Rate should be set to `rate = 1 - keep_prob`.\n",
      "_________________________________________________________________\n",
      "Layer (type)                 Output Shape              Param #   \n",
      "=================================================================\n",
      "conv2d_1 (Conv2D)            (None, 64, 64, 16)        448       \n",
      "_________________________________________________________________\n",
      "activation_1 (Activation)    (None, 64, 64, 16)        0         \n",
      "_________________________________________________________________\n",
      "batch_normalization_1 (Batch (None, 64, 64, 16)        64        \n",
      "_________________________________________________________________\n",
      "max_pooling2d_1 (MaxPooling2 (None, 32, 32, 16)        0         \n",
      "_________________________________________________________________\n",
      "conv2d_2 (Conv2D)            (None, 32, 32, 32)        4640      \n",
      "_________________________________________________________________\n",
      "activation_2 (Activation)    (None, 32, 32, 32)        0         \n",
      "_________________________________________________________________\n",
      "batch_normalization_2 (Batch (None, 32, 32, 32)        128       \n",
      "_________________________________________________________________\n",
      "max_pooling2d_2 (MaxPooling2 (None, 16, 16, 32)        0         \n",
      "_________________________________________________________________\n",
      "conv2d_3 (Conv2D)            (None, 16, 16, 64)        18496     \n",
      "_________________________________________________________________\n",
      "activation_3 (Activation)    (None, 16, 16, 64)        0         \n",
      "_________________________________________________________________\n",
      "batch_normalization_3 (Batch (None, 16, 16, 64)        256       \n",
      "_________________________________________________________________\n",
      "max_pooling2d_3 (MaxPooling2 (None, 8, 8, 64)          0         \n",
      "_________________________________________________________________\n",
      "dropout_1 (Dropout)          (None, 8, 8, 64)          0         \n",
      "_________________________________________________________________\n",
      "flatten_1 (Flatten)          (None, 4096)              0         \n",
      "_________________________________________________________________\n",
      "dense_1 (Dense)              (None, 256)               1048832   \n",
      "_________________________________________________________________\n",
      "activation_4 (Activation)    (None, 256)               0         \n",
      "_________________________________________________________________\n",
      "dropout_2 (Dropout)          (None, 256)               0         \n",
      "_________________________________________________________________\n",
      "dense_2 (Dense)              (None, 14)                3598      \n",
      "_________________________________________________________________\n",
      "activation_5 (Activation)    (None, 14)                0         \n",
      "=================================================================\n",
      "Total params: 1,076,462\n",
      "Trainable params: 1,076,238\n",
      "Non-trainable params: 224\n",
      "_________________________________________________________________\n"
     ]
    }
   ],
   "source": [
    "# 建構我們的神經網路\n",
    "model = Sequential()\n",
    "\n",
    "# filter, 矩陣\n",
    "model.add(Conv2D(16, (3, 3), padding='same', input_shape=(64, 64, 3))) # padding 設成 same 是每個 filter 會輸出原來 64*64 一樣大小的矩陣。\n",
    "model.add(Activation('relu'))\n",
    "model.add(BatchNormalization())\n",
    "# Max-Pooling!\n",
    "model.add(MaxPool2D(pool_size=(2, 2)))\n",
    "\n",
    "model.add(Conv2D(32, (3, 3), padding='same'))\n",
    "model.add(Activation('relu'))\n",
    "model.add(BatchNormalization())\n",
    "model.add(MaxPool2D(pool_size=(2, 2)))\n",
    "\n",
    "model.add(Conv2D(64, (3, 3), padding='same'))\n",
    "model.add(Activation('relu'))\n",
    "model.add(BatchNormalization())\n",
    "model.add(MaxPool2D(pool_size=(2, 2)))\n",
    "model.add(Dropout(0.3))\n",
    "\n",
    "# 將資料拉平成\n",
    "model.add(Flatten())\n",
    "# 神經元\n",
    "model.add(Dense(256))\n",
    "model.add(Activation('relu'))\n",
    "model.add(Dropout(0.5)) # Dropout 在訓練中每次更新時， 將輸入單元的按比率隨機設置為 0，有助於防止過擬合\n",
    "model.add(Dense(14))\n",
    "model.add(Activation('softmax'))\n",
    "\n",
    "# 檢視我們的神經網路\n",
    "model.summary()"
   ]
  },
  {
   "cell_type": "code",
   "execution_count": 13,
   "metadata": {},
   "outputs": [],
   "source": [
    "model.compile(loss=\"categorical_crossentropy\", optimizer=Adadelta(), metrics=['accuracy'])"
   ]
  },
  {
   "cell_type": "code",
   "execution_count": 14,
   "metadata": {},
   "outputs": [
    {
     "name": "stdout",
     "output_type": "stream",
     "text": [
      "WARNING:tensorflow:From C:\\Users\\Will\\Anaconda3\\lib\\site-packages\\tensorflow\\python\\ops\\math_ops.py:3066: to_int32 (from tensorflow.python.ops.math_ops) is deprecated and will be removed in a future version.\n",
      "Instructions for updating:\n",
      "Use tf.cast instead.\n",
      "Train on 1653 samples, validate on 515 samples\n",
      "Epoch 1/10\n",
      "1653/1653 [==============================] - 48s 29ms/step - loss: 3.3912 - acc: 0.2946 - val_loss: 1.7787 - val_acc: 0.4252\n",
      "Epoch 2/10\n",
      "1653/1653 [==============================] - 41s 25ms/step - loss: 1.6898 - acc: 0.4628 - val_loss: 1.4573 - val_acc: 0.5417\n",
      "Epoch 3/10\n",
      "1653/1653 [==============================] - 41s 25ms/step - loss: 1.4438 - acc: 0.5185 - val_loss: 1.3762 - val_acc: 0.5515\n",
      "Epoch 4/10\n",
      "1653/1653 [==============================] - 43s 26ms/step - loss: 1.2505 - acc: 0.5802 - val_loss: 1.3220 - val_acc: 0.5650\n",
      "Epoch 5/10\n",
      "1653/1653 [==============================] - 45s 27ms/step - loss: 1.0644 - acc: 0.6413 - val_loss: 1.5210 - val_acc: 0.5340\n",
      "Epoch 6/10\n",
      "1653/1653 [==============================] - 42s 25ms/step - loss: 0.9765 - acc: 0.6751 - val_loss: 1.2612 - val_acc: 0.5903\n",
      "Epoch 7/10\n",
      "1653/1653 [==============================] - 42s 25ms/step - loss: 0.8544 - acc: 0.7132 - val_loss: 1.3402 - val_acc: 0.5728\n",
      "Epoch 8/10\n",
      "1653/1653 [==============================] - 41s 25ms/step - loss: 0.7751 - acc: 0.7302 - val_loss: 1.2059 - val_acc: 0.6291\n",
      "Epoch 9/10\n",
      "1653/1653 [==============================] - 42s 25ms/step - loss: 0.6711 - acc: 0.7683 - val_loss: 1.3701 - val_acc: 0.6214\n",
      "Epoch 10/10\n",
      "1653/1653 [==============================] - 42s 25ms/step - loss: 0.6273 - acc: 0.7883 - val_loss: 1.2687 - val_acc: 0.6175\n"
     ]
    }
   ],
   "source": [
    "model_fit = model.fit(x_train, y_train, batch_size=128, epochs=10, verbose=1, validation_data = (x_test, y_test))"
   ]
  },
  {
   "cell_type": "code",
   "execution_count": 15,
   "metadata": {},
   "outputs": [
    {
     "name": "stdout",
     "output_type": "stream",
     "text": [
      "Test loss: 1.2687490463256836\n",
      "Test accuracy: 0.6174757281553398\n"
     ]
    },
    {
     "data": {
      "text/plain": [
       "[<matplotlib.lines.Line2D at 0x24ae28aeb00>]"
      ]
     },
     "execution_count": 15,
     "metadata": {},
     "output_type": "execute_result"
    },
    {
     "data": {
      "image/png": "[encoded data removed]",
      "text/plain": [
       "<Figure size 432x288 with 1 Axes>"
      ]
     },
     "metadata": {
      "needs_background": "light"
     },
     "output_type": "display_data"
    }
   ],
   "source": [
    "score = model.evaluate(x_test, y_test, verbose=0)\n",
    "print('Test loss:', score[0])\n",
    "print('Test accuracy:', score[1])\n",
    "\n",
    "plt.plot(model_fit.history[\"acc\"])"
   ]
  },
  {
   "cell_type": "code",
   "execution_count": 24,
   "metadata": {},
   "outputs": [],
   "source": [
    "# 實際照片辨識\n",
    "from keras.preprocessing import image\n",
    "\n",
    "img_path = 'FruitsImage/Images/6000198083646.jpg'\n",
    "\n",
    "img = image.load_img(img_path, target_size=(64, 64))\n",
    "img_arr = image.img_to_array(img)\n",
    "img_arr = np.expand_dims(img_arr, axis=0)"
   ]
  },
  {
   "cell_type": "code",
   "execution_count": 25,
   "metadata": {},
   "outputs": [],
   "source": [
    "# 正規化 將資料線性單位化至  [0,1] 。\n",
    "img_arr = (img_arr - img_arr.min()) / (img_arr.max() - img_arr.min())"
   ]
  },
  {
   "cell_type": "code",
   "execution_count": 26,
   "metadata": {},
   "outputs": [],
   "source": [
    "predict = model.predict_classes(img_arr)"
   ]
  },
  {
   "cell_type": "code",
   "execution_count": 27,
   "metadata": {},
   "outputs": [
    {
     "data": {
      "text/plain": [
       "'Pineapple'"
      ]
     },
     "execution_count": 27,
     "metadata": {},
     "output_type": "execute_result"
    },
    {
     "data": {
      "image/png": "[encoded data removed]",
      "text/plain": [
       "<Figure size 432x288 with 1 Axes>"
      ]
     },
     "metadata": {
      "needs_background": "light"
     },
     "output_type": "display_data"
    }
   ],
   "source": [
    "plt.imshow(img, cmap='Greys')\n",
    "target_label[predict[0]]"
   ]
  },
  {
   "cell_type": "code",
   "execution_count": null,
   "metadata": {},
   "outputs": [],
   "source": []
  }
 ],
 "metadata": {
  "kernelspec": {
   "display_name": "Python 3",
   "language": "python",
   "name": "python3"
  },
  "language_info": {
   "codemirror_mode": {
    "name": "ipython",
    "version": 3
   },
   "file_extension": ".py",
   "mimetype": "text/x-python",
   "name": "python",
   "nbconvert_exporter": "python",
   "pygments_lexer": "ipython3",
   "version": "3.6.8"
  }
 },
 "nbformat": 4,
 "nbformat_minor": 2
}
