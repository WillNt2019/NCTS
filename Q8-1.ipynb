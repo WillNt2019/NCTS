{
 "cells": [
  {
   "cell_type": "code",
   "execution_count": 1,
   "metadata": {},
   "outputs": [],
   "source": [
    "%matplotlib inline\n",
    "\n",
    "import numpy as np\n",
    "import matplotlib.pyplot as plt"
   ]
  },
  {
   "cell_type": "code",
   "execution_count": 2,
   "metadata": {},
   "outputs": [
    {
     "name": "stderr",
     "output_type": "stream",
     "text": [
      "Using TensorFlow backend.\n"
     ]
    }
   ],
   "source": [
    "# 由 Keras 讀入 MNIST\n",
    "from keras.datasets import mnist"
   ]
  },
  {
   "cell_type": "code",
   "execution_count": 3,
   "metadata": {},
   "outputs": [],
   "source": [
    "(x_train, y_train), (x_test, y_test) = mnist.load_data()"
   ]
  },
  {
   "cell_type": "code",
   "execution_count": 4,
   "metadata": {},
   "outputs": [],
   "source": [
    "# 輸入格式整理\n",
    "x_train = x_train.reshape(60000, 784)\n",
    "x_test = x_test.reshape(10000, 784)\n",
    "\n",
    "# 正規化 將資料線性單位化至  [0,1] 。\n",
    "x_train = (x_train - x_train.min()) / (x_train.max() - x_train.min())\n",
    "x_test = (x_test - x_test.min()) / (x_test.max() - x_test.min())"
   ]
  },
  {
   "cell_type": "code",
   "execution_count": 5,
   "metadata": {},
   "outputs": [
    {
     "data": {
      "text/plain": [
       "(0.0, 1.0)"
      ]
     },
     "execution_count": 5,
     "metadata": {},
     "output_type": "execute_result"
    }
   ],
   "source": [
    "x_train.min(), x_train.max()"
   ]
  },
  {
   "cell_type": "code",
   "execution_count": 6,
   "metadata": {},
   "outputs": [],
   "source": [
    "# 輸出格式整理 \n",
    "from keras.utils import np_utils"
   ]
  },
  {
   "cell_type": "code",
   "execution_count": 7,
   "metadata": {},
   "outputs": [],
   "source": [
    "y_train = np_utils.to_categorical(y_train, 10)\n",
    "y_test = np_utils.to_categorical(y_test, 10)"
   ]
  },
  {
   "cell_type": "code",
   "execution_count": 8,
   "metadata": {},
   "outputs": [],
   "source": [
    "# 決定神經網路架構、讀入相關套件\n",
    "from keras.layers import Dense, Activation\n",
    "from keras.optimizers import SGD"
   ]
  },
  {
   "cell_type": "markdown",
   "metadata": {},
   "source": [
    "# Functional API"
   ]
  },
  {
   "cell_type": "code",
   "execution_count": 9,
   "metadata": {},
   "outputs": [],
   "source": [
    "from keras.models import Model\n",
    "from keras.layers import Input"
   ]
  },
  {
   "cell_type": "code",
   "execution_count": 10,
   "metadata": {},
   "outputs": [],
   "source": [
    "# 建構我們的神經網路\n",
    "f1 = Dense(120, activation='relu')\n",
    "f2 = Dense(20, activation='relu')\n",
    "f3 = Dense(10, activation='softmax')"
   ]
  },
  {
   "cell_type": "code",
   "execution_count": 11,
   "metadata": {},
   "outputs": [],
   "source": [
    "# 第一個變數必定以 Input 函數來定義\n",
    "x = Input(shape=(784,))"
   ]
  },
  {
   "cell_type": "markdown",
   "metadata": {},
   "source": [
    "$$h_1 = f_1(x), h_2 = f_2(h_1), y = f_3(h_2)$$"
   ]
  },
  {
   "cell_type": "code",
   "execution_count": 12,
   "metadata": {},
   "outputs": [
    {
     "name": "stdout",
     "output_type": "stream",
     "text": [
      "WARNING:tensorflow:From C:\\Users\\Will\\Anaconda3\\lib\\site-packages\\tensorflow\\python\\framework\\op_def_library.py:263: colocate_with (from tensorflow.python.framework.ops) is deprecated and will be removed in a future version.\n",
      "Instructions for updating:\n",
      "Colocations handled automatically by placer.\n"
     ]
    }
   ],
   "source": [
    "# 直接照著數學式寫程式\n",
    "h1 = f1(x)\n",
    "h2 = f2(h1)\n",
    "y = f3(h2)"
   ]
  },
  {
   "cell_type": "code",
   "execution_count": 13,
   "metadata": {},
   "outputs": [],
   "source": [
    "# 透過 Model 將一個模型的輸入/輸出包裝起來\n",
    "model = Model(x, y)"
   ]
  },
  {
   "cell_type": "code",
   "execution_count": 14,
   "metadata": {},
   "outputs": [
    {
     "name": "stdout",
     "output_type": "stream",
     "text": [
      "_________________________________________________________________\n",
      "Layer (type)                 Output Shape              Param #   \n",
      "=================================================================\n",
      "input_1 (InputLayer)         (None, 784)               0         \n",
      "_________________________________________________________________\n",
      "dense_1 (Dense)              (None, 120)               94200     \n",
      "_________________________________________________________________\n",
      "dense_2 (Dense)              (None, 20)                2420      \n",
      "_________________________________________________________________\n",
      "dense_3 (Dense)              (None, 10)                210       \n",
      "=================================================================\n",
      "Total params: 96,830\n",
      "Trainable params: 96,830\n",
      "Non-trainable params: 0\n",
      "_________________________________________________________________\n"
     ]
    }
   ],
   "source": [
    "# 組裝\n",
    "model.compile(loss='mse', optimizer = SGD(lr = 0.3), metrics = ['accuracy'])\n",
    "# 檢視我們的神經網路\n",
    "model.summary()"
   ]
  },
  {
   "cell_type": "code",
   "execution_count": 15,
   "metadata": {},
   "outputs": [
    {
     "name": "stdout",
     "output_type": "stream",
     "text": [
      "WARNING:tensorflow:From C:\\Users\\Will\\Anaconda3\\lib\\site-packages\\tensorflow\\python\\ops\\math_ops.py:3066: to_int32 (from tensorflow.python.ops.math_ops) is deprecated and will be removed in a future version.\n",
      "Instructions for updating:\n",
      "Use tf.cast instead.\n",
      "Train on 60000 samples, validate on 10000 samples\n",
      "Epoch 1/20\n",
      "60000/60000 [==============================] - 3s 54us/step - loss: 0.0598 - acc: 0.5493 - val_loss: 0.0254 - val_acc: 0.8534\n",
      "Epoch 2/20\n",
      "60000/60000 [==============================] - 3s 45us/step - loss: 0.0200 - acc: 0.8787 - val_loss: 0.0157 - val_acc: 0.9036\n",
      "Epoch 3/20\n",
      "60000/60000 [==============================] - 3s 50us/step - loss: 0.0151 - acc: 0.9037 - val_loss: 0.0132 - val_acc: 0.9193\n",
      "Epoch 4/20\n",
      "60000/60000 [==============================] - 3s 51us/step - loss: 0.0132 - acc: 0.9146 - val_loss: 0.0118 - val_acc: 0.9256\n",
      "Epoch 5/20\n",
      "60000/60000 [==============================] - 3s 49us/step - loss: 0.0120 - acc: 0.9231 - val_loss: 0.0111 - val_acc: 0.9311\n",
      "Epoch 6/20\n",
      "60000/60000 [==============================] - 3s 44us/step - loss: 0.0111 - acc: 0.9289 - val_loss: 0.0107 - val_acc: 0.9326\n",
      "Epoch 7/20\n",
      "60000/60000 [==============================] - 3s 44us/step - loss: 0.0103 - acc: 0.9352 - val_loss: 0.0099 - val_acc: 0.9370\n",
      "Epoch 8/20\n",
      "60000/60000 [==============================] - 3s 44us/step - loss: 0.0097 - acc: 0.9382 - val_loss: 0.0094 - val_acc: 0.9409\n",
      "Epoch 9/20\n",
      "60000/60000 [==============================] - 3s 46us/step - loss: 0.0092 - acc: 0.9423 - val_loss: 0.0090 - val_acc: 0.9433\n",
      "Epoch 10/20\n",
      "60000/60000 [==============================] - 3s 44us/step - loss: 0.0087 - acc: 0.9460 - val_loss: 0.0087 - val_acc: 0.9461\n",
      "Epoch 11/20\n",
      "60000/60000 [==============================] - 3s 47us/step - loss: 0.0082 - acc: 0.9491 - val_loss: 0.0083 - val_acc: 0.9464\n",
      "Epoch 12/20\n",
      "60000/60000 [==============================] - 3s 48us/step - loss: 0.0078 - acc: 0.9515 - val_loss: 0.0080 - val_acc: 0.9483\n",
      "Epoch 13/20\n",
      "60000/60000 [==============================] - 3s 46us/step - loss: 0.0074 - acc: 0.9541 - val_loss: 0.0076 - val_acc: 0.9515\n",
      "Epoch 14/20\n",
      "60000/60000 [==============================] - 3s 45us/step - loss: 0.0071 - acc: 0.9554 - val_loss: 0.0074 - val_acc: 0.9525\n",
      "Epoch 15/20\n",
      "60000/60000 [==============================] - 3s 48us/step - loss: 0.0068 - acc: 0.9576 - val_loss: 0.0072 - val_acc: 0.9544\n",
      "Epoch 16/20\n",
      "60000/60000 [==============================] - 3s 56us/step - loss: 0.0065 - acc: 0.9593 - val_loss: 0.0071 - val_acc: 0.9548\n",
      "Epoch 17/20\n",
      "60000/60000 [==============================] - 3s 49us/step - loss: 0.0063 - acc: 0.9614 - val_loss: 0.0069 - val_acc: 0.9554\n",
      "Epoch 18/20\n",
      "60000/60000 [==============================] - 3s 44us/step - loss: 0.0060 - acc: 0.9632 - val_loss: 0.0066 - val_acc: 0.9580\n",
      "Epoch 19/20\n",
      "60000/60000 [==============================] - 3s 44us/step - loss: 0.0058 - acc: 0.9647 - val_loss: 0.0065 - val_acc: 0.9590\n",
      "Epoch 20/20\n",
      "60000/60000 [==============================] - 3s 47us/step - loss: 0.0056 - acc: 0.9661 - val_loss: 0.0062 - val_acc: 0.9604\n"
     ]
    },
    {
     "data": {
      "text/plain": [
       "<keras.callbacks.History at 0x1ebceb874a8>"
      ]
     },
     "execution_count": 15,
     "metadata": {},
     "output_type": "execute_result"
    }
   ],
   "source": [
    "# 訓練神經網路\n",
    "model.fit(x_train, y_train, batch_size = 100, epochs = 20, verbose = 1, validation_data = (x_test, y_test))"
   ]
  },
  {
   "cell_type": "code",
   "execution_count": 16,
   "metadata": {},
   "outputs": [
    {
     "name": "stdout",
     "output_type": "stream",
     "text": [
      "60000/60000 [==============================] - 1s 16us/step\n",
      "Loss: 0.005309\n",
      "準確率: 96.850000\n"
     ]
    }
   ],
   "source": [
    "# 檢視準確率\n",
    "score = model.evaluate(x_train, y_train, batch_size=10000)\n",
    "print(\"Loss: %f\" %score[0])\n",
    "print(\"準確率: %f\" %(score[1]*100))"
   ]
  },
  {
   "cell_type": "markdown",
   "metadata": {},
   "source": [
    "# 非線性堆疊模型\n",
    "# 建立具分歧及合併結構的神經網路模型"
   ]
  },
  {
   "cell_type": "code",
   "execution_count": 17,
   "metadata": {},
   "outputs": [],
   "source": [
    "from keras.layers import concatenate, add"
   ]
  },
  {
   "cell_type": "code",
   "execution_count": 18,
   "metadata": {},
   "outputs": [],
   "source": [
    "# 定義  𝑓3 ,  𝑓4  及  𝑧\n",
    "f4 = Dense(500, activation='relu')\n",
    "z = f4(h1)\n",
    "\n",
    "# new f3\n",
    "f3 = Dense(10, activation='softmax')"
   ]
  },
  {
   "cell_type": "code",
   "execution_count": 19,
   "metadata": {},
   "outputs": [],
   "source": [
    "# 將  ℎ2  與  𝑧  concatenate 接在一起，稱做  𝑢 。\n",
    "u = concatenate([h2, z])\n",
    "y = f3(u)"
   ]
  },
  {
   "cell_type": "code",
   "execution_count": 20,
   "metadata": {},
   "outputs": [],
   "source": [
    "# 透過 Model 將一個模型的輸入/輸出包裝起來\n",
    "model = Model(x, y)"
   ]
  },
  {
   "cell_type": "code",
   "execution_count": 21,
   "metadata": {},
   "outputs": [
    {
     "name": "stdout",
     "output_type": "stream",
     "text": [
      "__________________________________________________________________________________________________\n",
      "Layer (type)                    Output Shape         Param #     Connected to                     \n",
      "==================================================================================================\n",
      "input_1 (InputLayer)            (None, 784)          0                                            \n",
      "__________________________________________________________________________________________________\n",
      "dense_1 (Dense)                 (None, 120)          94200       input_1[0][0]                    \n",
      "__________________________________________________________________________________________________\n",
      "dense_2 (Dense)                 (None, 20)           2420        dense_1[0][0]                    \n",
      "__________________________________________________________________________________________________\n",
      "dense_4 (Dense)                 (None, 500)          60500       dense_1[0][0]                    \n",
      "__________________________________________________________________________________________________\n",
      "concatenate_1 (Concatenate)     (None, 520)          0           dense_2[0][0]                    \n",
      "                                                                 dense_4[0][0]                    \n",
      "__________________________________________________________________________________________________\n",
      "dense_5 (Dense)                 (None, 10)           5210        concatenate_1[0][0]              \n",
      "==================================================================================================\n",
      "Total params: 162,330\n",
      "Trainable params: 162,330\n",
      "Non-trainable params: 0\n",
      "__________________________________________________________________________________________________\n"
     ]
    }
   ],
   "source": [
    "# 組裝\n",
    "model.compile(loss='mse', optimizer = SGD(lr = 0.3), metrics = ['accuracy'])\n",
    "# 檢視我們的神經網路\n",
    "model.summary()"
   ]
  },
  {
   "cell_type": "code",
   "execution_count": 22,
   "metadata": {},
   "outputs": [
    {
     "name": "stdout",
     "output_type": "stream",
     "text": [
      "Train on 60000 samples, validate on 10000 samples\n",
      "Epoch 1/20\n",
      "60000/60000 [==============================] - 5s 77us/step - loss: 0.0199 - acc: 0.8885 - val_loss: 0.0090 - val_acc: 0.9463\n",
      "Epoch 2/20\n",
      "60000/60000 [==============================] - 4s 71us/step - loss: 0.0079 - acc: 0.9550 - val_loss: 0.0075 - val_acc: 0.9530\n",
      "Epoch 3/20\n",
      "60000/60000 [==============================] - 4s 70us/step - loss: 0.0069 - acc: 0.9598 - val_loss: 0.0070 - val_acc: 0.9567\n",
      "Epoch 4/20\n",
      "60000/60000 [==============================] - 4s 72us/step - loss: 0.0063 - acc: 0.9631 - val_loss: 0.0066 - val_acc: 0.9601\n",
      "Epoch 5/20\n",
      "60000/60000 [==============================] - 4s 69us/step - loss: 0.0059 - acc: 0.9648 - val_loss: 0.0064 - val_acc: 0.9608\n",
      "Epoch 6/20\n",
      "60000/60000 [==============================] - 4s 72us/step - loss: 0.0056 - acc: 0.9667 - val_loss: 0.0060 - val_acc: 0.9627\n",
      "Epoch 7/20\n",
      "60000/60000 [==============================] - 4s 74us/step - loss: 0.0053 - acc: 0.9683 - val_loss: 0.0059 - val_acc: 0.9628\n",
      "Epoch 8/20\n",
      "60000/60000 [==============================] - 5s 80us/step - loss: 0.0051 - acc: 0.9696 - val_loss: 0.0057 - val_acc: 0.9638\n",
      "Epoch 9/20\n",
      "60000/60000 [==============================] - 5s 76us/step - loss: 0.0049 - acc: 0.9706 - val_loss: 0.0056 - val_acc: 0.9637\n",
      "Epoch 10/20\n",
      "60000/60000 [==============================] - 4s 70us/step - loss: 0.0047 - acc: 0.9720 - val_loss: 0.0054 - val_acc: 0.9658\n",
      "Epoch 11/20\n",
      "60000/60000 [==============================] - 4s 65us/step - loss: 0.0046 - acc: 0.9726 - val_loss: 0.0054 - val_acc: 0.9673\n",
      "Epoch 12/20\n",
      "60000/60000 [==============================] - 4s 68us/step - loss: 0.0044 - acc: 0.9735 - val_loss: 0.0052 - val_acc: 0.9672\n",
      "Epoch 13/20\n",
      "60000/60000 [==============================] - 4s 63us/step - loss: 0.0043 - acc: 0.9745 - val_loss: 0.0051 - val_acc: 0.9681\n",
      "Epoch 14/20\n",
      "60000/60000 [==============================] - 4s 64us/step - loss: 0.0042 - acc: 0.9755 - val_loss: 0.0050 - val_acc: 0.9682\n",
      "Epoch 15/20\n",
      "60000/60000 [==============================] - 5s 78us/step - loss: 0.0040 - acc: 0.9760 - val_loss: 0.0049 - val_acc: 0.9692\n",
      "Epoch 16/20\n",
      "60000/60000 [==============================] - 5s 80us/step - loss: 0.0039 - acc: 0.9768 - val_loss: 0.0049 - val_acc: 0.9687\n",
      "Epoch 17/20\n",
      "60000/60000 [==============================] - 4s 73us/step - loss: 0.0038 - acc: 0.9778 - val_loss: 0.0048 - val_acc: 0.9692\n",
      "Epoch 18/20\n",
      "60000/60000 [==============================] - 4s 70us/step - loss: 0.0037 - acc: 0.9786 - val_loss: 0.0048 - val_acc: 0.9692\n",
      "Epoch 19/20\n",
      "60000/60000 [==============================] - 5s 78us/step - loss: 0.0036 - acc: 0.9794 - val_loss: 0.0047 - val_acc: 0.9713\n",
      "Epoch 20/20\n",
      "60000/60000 [==============================] - 5s 75us/step - loss: 0.0035 - acc: 0.9796 - val_loss: 0.0046 - val_acc: 0.9705\n"
     ]
    },
    {
     "data": {
      "text/plain": [
       "<keras.callbacks.History at 0x1ebcfdd5d68>"
      ]
     },
     "execution_count": 22,
     "metadata": {},
     "output_type": "execute_result"
    }
   ],
   "source": [
    "# 訓練神經網路\n",
    "model.fit(x_train, y_train, batch_size = 100, epochs = 20, verbose = 1, validation_data = (x_test, y_test))"
   ]
  },
  {
   "cell_type": "code",
   "execution_count": 23,
   "metadata": {},
   "outputs": [
    {
     "name": "stdout",
     "output_type": "stream",
     "text": [
      "60000/60000 [==============================] - 1s 22us/step\n",
      "Loss: 0.003387\n",
      "準確率: 98.071667\n"
     ]
    }
   ],
   "source": [
    "# 檢視準確率\n",
    "score = model.evaluate(x_train, y_train, batch_size=10000)\n",
    "print(\"Loss: %f\" %score[0])\n",
    "print(\"準確率: %f\" %(score[1]*100))"
   ]
  },
  {
   "cell_type": "code",
   "execution_count": null,
   "metadata": {},
   "outputs": [],
   "source": []
  }
 ],
 "metadata": {
  "kernelspec": {
   "display_name": "Python 3",
   "language": "python",
   "name": "python3"
  },
  "language_info": {
   "codemirror_mode": {
    "name": "ipython",
    "version": 3
   },
   "file_extension": ".py",
   "mimetype": "text/x-python",
   "name": "python",
   "nbconvert_exporter": "python",
   "pygments_lexer": "ipython3",
   "version": "3.6.8"
  }
 },
 "nbformat": 4,
 "nbformat_minor": 2
}
