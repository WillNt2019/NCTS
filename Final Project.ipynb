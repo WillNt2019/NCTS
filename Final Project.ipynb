{
 "cells": [
  {
   "cell_type": "markdown",
   "metadata": {},
   "source": [
    "# 組員：李維恩"
   ]
  },
  {
   "cell_type": "markdown",
   "metadata": {},
   "source": [
    "## A. 主題：CNN 水果辨識\n",
    "## B. 主題說明：隨意拍一張水果照片, 載入 水果辨識, 即能辨識出該照片中的水果是甚麼水果\n",
    "## C. 實作方法：\n",
    "   ### 01. 用 Beautiful Soup 蒐集水果圖片(圖片來源：Google 圖片、圖庫) (預計完成日期：2019.05.29)\n",
    "        預計蒐集 Apple, Banana, Cherry, Cocos, Dates, Grape, Kiwi, Lemon, Mango, Orange, Peach, Strawberry, Tomato\n",
    "   ### 02. 撰寫 Python 程式 (預計完成日期：2019.06.03)\n",
    "        a. 讀取 訓練及測試 圖片\n",
    "        b. 整理 訓練及測試 圖片(正規化)\n",
    "        c. 設計 神經網路(Sequential, Conv2D, MaxPool2D, Dense)\n",
    "        d. 編譯 神經網路\n",
    "        e. 訓練 神經網路\n",
    "        f. 調整 神經網路\n",
    "        g. 檢視 準確率\n",
    "        h. 儲存 訓練結果\n",
    "   ### 03. 載入及辨識 實拍水果照片並顯示其水果名稱  (預計完成日期：2019.06.03)\n",
    "## D. 目前進度：65%"
   ]
  },
  {
   "cell_type": "code",
   "execution_count": null,
   "metadata": {},
   "outputs": [],
   "source": []
  }
 ],
 "metadata": {
  "kernelspec": {
   "display_name": "Python 3",
   "language": "python",
   "name": "python3"
  },
  "language_info": {
   "codemirror_mode": {
    "name": "ipython",
    "version": 3
   },
   "file_extension": ".py",
   "mimetype": "text/x-python",
   "name": "python",
   "nbconvert_exporter": "python",
   "pygments_lexer": "ipython3",
   "version": "3.6.8"
  }
 },
 "nbformat": 4,
 "nbformat_minor": 2
}
