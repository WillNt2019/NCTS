{
 "cells": [
  {
   "cell_type": "markdown",
   "metadata": {},
   "source": [
    "# (實用) 如何將網路上的資料，放進自己的資料庫中 及 應用處理?!"
   ]
  },
  {
   "cell_type": "code",
   "execution_count": null,
   "metadata": {},
   "outputs": [],
   "source": [
    "%matplotlib inline\n",
    "import numpy as np\n",
    "import matplotlib.pyplot as plt\n",
    "import pandas as pd"
   ]
  },
  {
   "cell_type": "markdown",
   "metadata": {},
   "source": [
    "# 01 讀取網路上的檔案"
   ]
  },
  {
   "cell_type": "code",
   "execution_count": 4,
   "metadata": {},
   "outputs": [],
   "source": [
    "df = pd.read_csv('https://od.cdc.gov.tw/eic/NHI_EnteroviralInfection.csv')"
   ]
  },
  {
   "cell_type": "code",
   "execution_count": 13,
   "metadata": {},
   "outputs": [
    {
     "data": {
      "text/html": [
       "<div>\n",
       "<style scoped>\n",
       "    .dataframe tbody tr th:only-of-type {\n",
       "        vertical-align: middle;\n",
       "    }\n",
       "\n",
       "    .dataframe tbody tr th {\n",
       "        vertical-align: top;\n",
       "    }\n",
       "\n",
       "    .dataframe thead th {\n",
       "        text-align: right;\n",
       "    }\n",
       "</style>\n",
       "<table border=\"1\" class=\"dataframe\">\n",
       "  <thead>\n",
       "    <tr style=\"text-align: right;\">\n",
       "      <th></th>\n",
       "      <th>年</th>\n",
       "      <th>週</th>\n",
       "      <th>就診類別</th>\n",
       "      <th>年齡別</th>\n",
       "      <th>縣市</th>\n",
       "      <th>腸病毒健保就診人次</th>\n",
       "      <th>健保就診總人次</th>\n",
       "    </tr>\n",
       "  </thead>\n",
       "  <tbody>\n",
       "    <tr>\n",
       "      <th>0</th>\n",
       "      <td>2008</td>\n",
       "      <td>14</td>\n",
       "      <td>住院</td>\n",
       "      <td>0-2</td>\n",
       "      <td>台中市</td>\n",
       "      <td>0</td>\n",
       "      <td>105</td>\n",
       "    </tr>\n",
       "    <tr>\n",
       "      <th>1</th>\n",
       "      <td>2008</td>\n",
       "      <td>14</td>\n",
       "      <td>住院</td>\n",
       "      <td>0-2</td>\n",
       "      <td>台北市</td>\n",
       "      <td>2</td>\n",
       "      <td>151</td>\n",
       "    </tr>\n",
       "    <tr>\n",
       "      <th>2</th>\n",
       "      <td>2008</td>\n",
       "      <td>14</td>\n",
       "      <td>住院</td>\n",
       "      <td>0-2</td>\n",
       "      <td>台東縣</td>\n",
       "      <td>0</td>\n",
       "      <td>14</td>\n",
       "    </tr>\n",
       "    <tr>\n",
       "      <th>3</th>\n",
       "      <td>2008</td>\n",
       "      <td>14</td>\n",
       "      <td>住院</td>\n",
       "      <td>0-2</td>\n",
       "      <td>台南市</td>\n",
       "      <td>0</td>\n",
       "      <td>20</td>\n",
       "    </tr>\n",
       "    <tr>\n",
       "      <th>4</th>\n",
       "      <td>2008</td>\n",
       "      <td>14</td>\n",
       "      <td>住院</td>\n",
       "      <td>0-2</td>\n",
       "      <td>宜蘭縣</td>\n",
       "      <td>0</td>\n",
       "      <td>44</td>\n",
       "    </tr>\n",
       "  </tbody>\n",
       "</table>\n",
       "</div>"
      ],
      "text/plain": [
       "      年   週 就診類別  年齡別   縣市  腸病毒健保就診人次  健保就診總人次\n",
       "0  2008  14   住院  0-2  台中市          0      105\n",
       "1  2008  14   住院  0-2  台北市          2      151\n",
       "2  2008  14   住院  0-2  台東縣          0       14\n",
       "3  2008  14   住院  0-2  台南市          0       20\n",
       "4  2008  14   住院  0-2  宜蘭縣          0       44"
      ]
     },
     "execution_count": 13,
     "metadata": {},
     "output_type": "execute_result"
    }
   ],
   "source": [
    "df.head()"
   ]
  },
  {
   "cell_type": "code",
   "execution_count": 2,
   "metadata": {},
   "outputs": [],
   "source": [
    "# 用於顯示中文\n",
    "import matplotlib as mpl\n",
    "mpl.rc('font', family='Noto Sans CJK TC')"
   ]
  },
  {
   "cell_type": "code",
   "execution_count": 20,
   "metadata": {},
   "outputs": [],
   "source": [
    "# 取需要的欄位\n",
    "df1 = df.loc[:,['年', '週', '年齡別', '縣市', '腸病毒健保就診人次']].copy()"
   ]
  },
  {
   "cell_type": "code",
   "execution_count": 30,
   "metadata": {},
   "outputs": [
    {
     "data": {
      "text/html": [
       "<div>\n",
       "<style scoped>\n",
       "    .dataframe tbody tr th:only-of-type {\n",
       "        vertical-align: middle;\n",
       "    }\n",
       "\n",
       "    .dataframe tbody tr th {\n",
       "        vertical-align: top;\n",
       "    }\n",
       "\n",
       "    .dataframe thead th {\n",
       "        text-align: right;\n",
       "    }\n",
       "</style>\n",
       "<table border=\"1\" class=\"dataframe\">\n",
       "  <thead>\n",
       "    <tr style=\"text-align: right;\">\n",
       "      <th></th>\n",
       "      <th>年</th>\n",
       "      <th>週</th>\n",
       "      <th>年齡別</th>\n",
       "      <th>縣市</th>\n",
       "      <th>腸病毒健保就診人次</th>\n",
       "    </tr>\n",
       "  </thead>\n",
       "  <tbody>\n",
       "    <tr>\n",
       "      <th>0</th>\n",
       "      <td>2008</td>\n",
       "      <td>14</td>\n",
       "      <td>0-2</td>\n",
       "      <td>台中市</td>\n",
       "      <td>0</td>\n",
       "    </tr>\n",
       "    <tr>\n",
       "      <th>1</th>\n",
       "      <td>2008</td>\n",
       "      <td>14</td>\n",
       "      <td>0-2</td>\n",
       "      <td>台北市</td>\n",
       "      <td>2</td>\n",
       "    </tr>\n",
       "    <tr>\n",
       "      <th>2</th>\n",
       "      <td>2008</td>\n",
       "      <td>14</td>\n",
       "      <td>0-2</td>\n",
       "      <td>台東縣</td>\n",
       "      <td>0</td>\n",
       "    </tr>\n",
       "    <tr>\n",
       "      <th>3</th>\n",
       "      <td>2008</td>\n",
       "      <td>14</td>\n",
       "      <td>0-2</td>\n",
       "      <td>台南市</td>\n",
       "      <td>0</td>\n",
       "    </tr>\n",
       "    <tr>\n",
       "      <th>4</th>\n",
       "      <td>2008</td>\n",
       "      <td>14</td>\n",
       "      <td>0-2</td>\n",
       "      <td>宜蘭縣</td>\n",
       "      <td>0</td>\n",
       "    </tr>\n",
       "  </tbody>\n",
       "</table>\n",
       "</div>"
      ],
      "text/plain": [
       "      年   週  年齡別   縣市  腸病毒健保就診人次\n",
       "0  2008  14  0-2  台中市          0\n",
       "1  2008  14  0-2  台北市          2\n",
       "2  2008  14  0-2  台東縣          0\n",
       "3  2008  14  0-2  台南市          0\n",
       "4  2008  14  0-2  宜蘭縣          0"
      ]
     },
     "execution_count": 30,
     "metadata": {},
     "output_type": "execute_result"
    }
   ],
   "source": [
    "df1.head()"
   ]
  },
  {
   "cell_type": "markdown",
   "metadata": {},
   "source": [
    "# 02 設定並開啟 DB Connect"
   ]
  },
  {
   "cell_type": "code",
   "execution_count": 3,
   "metadata": {},
   "outputs": [],
   "source": [
    "import pyodbc \n",
    "conn = pyodbc.connect('DRIVER={SQL Server}; SERVER=localhost; DATABASE=xxx; UID=xxx; PWD=xxxx')\n",
    "cursor = conn.cursor()"
   ]
  },
  {
   "cell_type": "markdown",
   "metadata": {},
   "source": [
    "# 03 將資料新增至資料庫\n",
    "\n",
    "ref https://tomaztsql.wordpress.com/2018/07/15/using-python-pandas-dataframe-to-read-and-insert-data-to-microsoft-sql-server/\n",
    "\n",
    "ref https://stackoverflow.com/questions/42286679/pyodbc-params-must-be-in-a-list-tuple-or-row-hy000-with-numpy-data"
   ]
  },
  {
   "cell_type": "code",
   "execution_count": 55,
   "metadata": {},
   "outputs": [],
   "source": [
    "sql = \"INSERT INTO [Reg].[dbo].[Enterovirus] (TheYear, TheWeek, AgeRange, City, Times) VALUES (?, ?, ?, ?, ?)\"\n",
    "val = list(tuple(row) for row in df1.values)\n",
    "\n",
    "cursor.executemany(sql, val)\n",
    "conn.commit()"
   ]
  },
  {
   "cell_type": "markdown",
   "metadata": {},
   "source": [
    "# 04 顯示資料庫中的資料"
   ]
  },
  {
   "cell_type": "code",
   "execution_count": 6,
   "metadata": {},
   "outputs": [
    {
     "name": "stdout",
     "output_type": "stream",
     "text": [
      "2008 14 0-2 台中市 0\n",
      "2008 14 0-2 台北市 2\n",
      "2008 14 0-2 台東縣 0\n",
      "2008 14 0-2 台南市 0\n",
      "2008 14 0-2 宜蘭縣 0\n",
      "2008 14 0-2 花蓮縣 0\n",
      "2008 14 0-2 金門縣 0\n",
      "2008 14 0-2 屏東縣 0\n",
      "2008 14 0-2 苗栗縣 0\n",
      "2008 14 0-2 桃園市 0\n"
     ]
    }
   ],
   "source": [
    "cursor.execute(\"SELECT TOP 10 TheYear, TheWeek, AgeRange, City, Times FROM [Reg].[dbo].[Enterovirus];\")\n",
    "rows = cursor.fetchall()\n",
    "if rows:\n",
    "    for row in rows:\n",
    "        print(row.TheYear, row.TheWeek, row.AgeRange, row.City, row.Times) "
   ]
  },
  {
   "cell_type": "markdown",
   "metadata": {},
   "source": [
    "# 06 將資料庫中的資料 轉成 dataframe"
   ]
  },
  {
   "cell_type": "code",
   "execution_count": 43,
   "metadata": {},
   "outputs": [
    {
     "data": {
      "text/plain": [
       "<matplotlib.axes._subplots.AxesSubplot at 0x187addf54e0>"
      ]
     },
     "execution_count": 43,
     "metadata": {},
     "output_type": "execute_result"
    },
    {
     "data": {
      "image/png": "[encoded data removed]",
      "text/plain": [
       "<Figure size 432x288 with 1 Axes>"
      ]
     },
     "metadata": {
      "needs_background": "light"
     },
     "output_type": "display_data"
    }
   ],
   "source": [
    "df2 = pd.read_sql(\"SELECT City, SUM(Times) AS Times FROM [Reg].[dbo].[Enterovirus] GROUP BY City\", conn)\n",
    "df3 = df2.sort_values(by = ['City'], ascending=True)\n",
    "df3.plot.bar(x='City', y=['Times'])"
   ]
  },
  {
   "cell_type": "code",
   "execution_count": 32,
   "metadata": {},
   "outputs": [
    {
     "data": {
      "text/plain": [
       "<matplotlib.collections.PathCollection at 0x187adbf55f8>"
      ]
     },
     "execution_count": 32,
     "metadata": {},
     "output_type": "execute_result"
    },
    {
     "data": {
      "image/png": "[encoded data removed]",
      "text/plain": [
       "<Figure size 432x288 with 1 Axes>"
      ]
     },
     "metadata": {
      "needs_background": "light"
     },
     "output_type": "display_data"
    }
   ],
   "source": [
    "# 將資料庫中的資料 轉成 dataframe (方式二)\n",
    "df4 = pd.read_sql(\n",
    "    \"SELECT [TheYear], SUM([Times]) AS Times \\\n",
    "     FROM [Reg].[dbo].[Enterovirus] \\\n",
    "     WHERE [City] IN ('新北市', '台北市') \\\n",
    "     GROUP BY [TheYear] \\\n",
    "     ORDER BY [TheYear]\"\n",
    "    , conn)\n",
    "\n",
    "plt.title('新北市 台北市')\n",
    "plt.scatter(df4.TheYear, df4.Times)"
   ]
  },
  {
   "cell_type": "code",
   "execution_count": 73,
   "metadata": {},
   "outputs": [
    {
     "data": {
      "text/plain": [
       "<matplotlib.collections.PathCollection at 0x2acacbbc828>"
      ]
     },
     "execution_count": 73,
     "metadata": {},
     "output_type": "execute_result"
    },
    {
     "data": {
      "image/png": "[encoded data removed]",
      "text/plain": [
       "<Figure size 432x288 with 1 Axes>"
      ]
     },
     "metadata": {
      "needs_background": "light"
     },
     "output_type": "display_data"
    }
   ],
   "source": [
    "# 將資料庫中的資料 轉成 dataframe (方式三)\n",
    "df5 = pd.read_sql(\n",
    "    '''SELECT [AgeRange], SUM([Times]) AS Times\n",
    "     FROM [Reg].[dbo].[Enterovirus]\n",
    "     WHERE [City] IN ('新北市', '台北市')\n",
    "     AND [TheYear] = '2010'\n",
    "     GROUP BY [AgeRange]\n",
    "     ORDER BY [AgeRange]'''\n",
    "    , conn)\n",
    "\n",
    "plt.title('新北市 台北市')\n",
    "plt.xlabel('年齡別')\n",
    "plt.ylabel('腸病毒健保就診人次')\n",
    "plt.plot(df5.AgeRange, df5.Times)\n",
    "plt.scatter(df5.AgeRange, df5.Times)"
   ]
  },
  {
   "cell_type": "markdown",
   "metadata": {},
   "source": [
    "# 07 帶入參數讀取資料庫 並 轉成 dataframe 及 其應用"
   ]
  },
  {
   "cell_type": "code",
   "execution_count": 46,
   "metadata": {},
   "outputs": [],
   "source": [
    "def Enterovirus01(Year, City):\n",
    "    df = pd.read_sql(\"SELECT [AgeRange], SUM([Times]) AS Times FROM [Reg].[dbo].[Enterovirus] WHERE [City] = '{}' AND [TheYear] = '{}' GROUP BY [AgeRange] ORDER BY [AgeRange]\".format(City, Year), conn)\n",
    "    PltDraw(City, df.AgeRange, df.Times)"
   ]
  },
  {
   "cell_type": "code",
   "execution_count": 47,
   "metadata": {},
   "outputs": [],
   "source": [
    "# 將資料庫中的資料 帶入參數 並 轉成 dataframe 及 其應用 (方式二)\n",
    "#ref https://andypicke.github.io/sql_pandas_post/\n",
    "def Enterovirus02(Year, City):\n",
    "    df = pd.read_sql_query('''SELECT AgeRange, SUM(Times) AS Times \n",
    "                            FROM [Reg].[dbo].[Enterovirus] \n",
    "                            WHERE City = ? AND TheYear = ? \n",
    "                            GROUP BY [AgeRange] \n",
    "                            ORDER BY [AgeRange] ''', conn, params=[City, Year])    \n",
    "    PltDraw(City, df.AgeRange, df.Times)"
   ]
  },
  {
   "cell_type": "code",
   "execution_count": 48,
   "metadata": {},
   "outputs": [],
   "source": [
    "def PltDraw(title, val01, val02):\n",
    "    plt.title(title)\n",
    "    plt.xlabel('年齡別')\n",
    "    plt.ylabel('腸病毒健保就診人次')\n",
    "    plt.plot(val01, val02)\n",
    "    plt.scatter(val01, val02)    "
   ]
  },
  {
   "cell_type": "code",
   "execution_count": 50,
   "metadata": {},
   "outputs": [
    {
     "name": "stdout",
     "output_type": "stream",
     "text": [
      "Year >> 2010\n",
      "City >> 高雄市\n"
     ]
    },
    {
     "data": {
      "image/png": "[encoded data removed]",
      "text/plain": [
       "<Figure size 432x288 with 1 Axes>"
      ]
     },
     "metadata": {
      "needs_background": "light"
     },
     "output_type": "display_data"
    }
   ],
   "source": [
    "# 資料互動查詢一\n",
    "from ipywidgets import widgets\n",
    "\n",
    "Year = input('Year >> ')\n",
    "City = input('City >> ')\n",
    "Enterovirus01(Year, City)"
   ]
  },
  {
   "cell_type": "code",
   "execution_count": 44,
   "metadata": {},
   "outputs": [
    {
     "data": {
      "application/vnd.jupyter.widget-view+json": {
       "model_id": "0d33023e3ac84876832335ef733991b3",
       "version_major": 2,
       "version_minor": 0
      },
      "text/plain": [
       "interactive(children=(IntSlider(value=2013, description='Year', max=2019, min=2008), Dropdown(description='Cit…"
      ]
     },
     "metadata": {},
     "output_type": "display_data"
    },
    {
     "data": {
      "text/plain": [
       "<function __main__.Enterovirus02(Year, City)>"
      ]
     },
     "execution_count": 44,
     "metadata": {},
     "output_type": "execute_result"
    }
   ],
   "source": [
    "# 資料互動查詢二\n",
    "df6 = pd.read_sql(\"SELECT [City] FROM [Reg].[dbo].[Enterovirus] GROUP BY [City] ORDER BY [City]\", conn)\n",
    "\n",
    "from ipywidgets import interact\n",
    "interact(Enterovirus02, Year=(2008, 2019), City=df6.City)"
   ]
  },
  {
   "cell_type": "markdown",
   "metadata": {},
   "source": [
    "# 08 年月通報次數 與 腸病毒健保就診人次 相關性回歸分析"
   ]
  },
  {
   "cell_type": "code",
   "execution_count": 171,
   "metadata": {},
   "outputs": [],
   "source": [
    "df7 = pd.read_sql(\"SELECT COUNT(*) AS YearWeek, SUM([Times]) AS [Times] \\\n",
    "FROM [Reg].[dbo].[Enterovirus] \\\n",
    "WHERE [Times] > 0 \\\n",
    "GROUP BY [TheYear], [TheWeek] \\\n",
    "ORDER BY [TheYear], [TheWeek]\", conn)\n",
    "\n",
    "x = np.array(df7.YearWeek)\n",
    "X = x.reshape(len(x), 1)\n",
    "y = np.array(df7.Times)\n",
    "\n",
    "from sklearn.model_selection import train_test_split\n",
    "x_train, x_test, y_train, y_test = train_test_split(X, y, test_size=0.3, random_state=9487)"
   ]
  },
  {
   "cell_type": "code",
   "execution_count": 172,
   "metadata": {},
   "outputs": [
    {
     "data": {
      "text/plain": [
       "<matplotlib.collections.PathCollection at 0x2acaf97cac8>"
      ]
     },
     "execution_count": 172,
     "metadata": {},
     "output_type": "execute_result"
    },
    {
     "data": {
      "image/png": "[encoded data removed]",
      "text/plain": [
       "<Figure size 432x288 with 1 Axes>"
      ]
     },
     "metadata": {
      "needs_background": "light"
     },
     "output_type": "display_data"
    }
   ],
   "source": [
    "plt.scatter(x_train, y_train)"
   ]
  },
  {
   "cell_type": "code",
   "execution_count": 173,
   "metadata": {},
   "outputs": [
    {
     "data": {
      "text/plain": [
       "<matplotlib.collections.PathCollection at 0x2acafa475f8>"
      ]
     },
     "execution_count": 173,
     "metadata": {},
     "output_type": "execute_result"
    },
    {
     "data": {
      "image/png": "[encoded data removed]",
      "text/plain": [
       "<Figure size 432x288 with 1 Axes>"
      ]
     },
     "metadata": {
      "needs_background": "light"
     },
     "output_type": "display_data"
    }
   ],
   "source": [
    "plt.scatter(x_test, y_test)"
   ]
  },
  {
   "cell_type": "code",
   "execution_count": 174,
   "metadata": {},
   "outputs": [],
   "source": [
    "from sklearn.linear_model import LinearRegression\n",
    "regr = LinearRegression()\n",
    "\n",
    "regr.fit(x_train, y_train)\n",
    "Y_pred = regr.predict(x_test)"
   ]
  },
  {
   "cell_type": "code",
   "execution_count": 177,
   "metadata": {},
   "outputs": [
    {
     "data": {
      "text/plain": [
       "Text(0, 0.5, '腸病毒健保就診人次')"
      ]
     },
     "execution_count": 177,
     "metadata": {},
     "output_type": "execute_result"
    },
    {
     "data": {
      "image/png": "[encoded data removed]",
      "text/plain": [
       "<Figure size 1296x504 with 1 Axes>"
      ]
     },
     "metadata": {
      "needs_background": "light"
     },
     "output_type": "display_data"
    }
   ],
   "source": [
    "plt.figure(figsize=(18,7))\n",
    "plt.scatter(x_test, y_test)\n",
    "plt.plot(x_test, Y_pred, 'r')\n",
    "plt.xlabel(\"年月通報次數\", size=20)\n",
    "plt.ylabel(\"腸病毒健保就診人次\", size=20) "
   ]
  },
  {
   "cell_type": "code",
   "execution_count": 178,
   "metadata": {},
   "outputs": [
    {
     "data": {
      "text/plain": [
       "0.7427899728838308"
      ]
     },
     "execution_count": 178,
     "metadata": {},
     "output_type": "execute_result"
    }
   ],
   "source": [
    "regr.score(x_test, y_test)"
   ]
  },
  {
   "cell_type": "code",
   "execution_count": null,
   "metadata": {},
   "outputs": [],
   "source": []
  }
 ],
 "metadata": {
  "kernelspec": {
   "display_name": "Python 3",
   "language": "python",
   "name": "python3"
  },
  "language_info": {
   "codemirror_mode": {
    "name": "ipython",
    "version": 3
   },
   "file_extension": ".py",
   "mimetype": "text/x-python",
   "name": "python",
   "nbconvert_exporter": "python",
   "pygments_lexer": "ipython3",
   "version": "3.6.8"
  }
 },
 "nbformat": 4,
 "nbformat_minor": 2
}
