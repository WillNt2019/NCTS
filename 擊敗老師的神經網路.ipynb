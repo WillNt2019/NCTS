{
 "cells": [
  {
   "cell_type": "code",
   "execution_count": 35,
   "metadata": {},
   "outputs": [],
   "source": [
    "%matplotlib inline\n",
    "\n",
    "import numpy as np\n",
    "import matplotlib.pyplot as plt"
   ]
  },
  {
   "cell_type": "code",
   "execution_count": 36,
   "metadata": {},
   "outputs": [],
   "source": [
    "# 由 Keras 讀入 MNIST\n",
    "from keras.datasets import mnist"
   ]
  },
  {
   "cell_type": "code",
   "execution_count": 37,
   "metadata": {},
   "outputs": [],
   "source": [
    "(x_train, y_train), (x_test, y_test) = mnist.load_data()"
   ]
  },
  {
   "cell_type": "code",
   "execution_count": 38,
   "metadata": {},
   "outputs": [],
   "source": [
    "# 輸入格式整理\n",
    "x_train = x_train.reshape(60000, 784)\n",
    "x_test = x_test.reshape(10000, 784)\n",
    "\n",
    "# 正規化\n",
    "x_train = (x_train - x_train.min()) / (x_train.max() - x_train.min())\n",
    "x_test = (x_test - x_test.min()) / (x_test.max() - x_test.min())"
   ]
  },
  {
   "cell_type": "code",
   "execution_count": 39,
   "metadata": {},
   "outputs": [],
   "source": [
    "# 輸出格式整理 \n",
    "from keras.utils import np_utils"
   ]
  },
  {
   "cell_type": "code",
   "execution_count": 40,
   "metadata": {},
   "outputs": [],
   "source": [
    "y_train = np_utils.to_categorical(y_train, 10)\n",
    "y_test = np_utils.to_categorical(y_test, 10)"
   ]
  },
  {
   "cell_type": "code",
   "execution_count": 41,
   "metadata": {},
   "outputs": [],
   "source": [
    "# 決定神經網路架構、讀入相關套件\n",
    "from keras.models import Sequential\n",
    "from keras.layers import Dense, Activation\n",
    "from keras.optimizers import SGD"
   ]
  },
  {
   "cell_type": "code",
   "execution_count": 101,
   "metadata": {},
   "outputs": [
    {
     "name": "stdout",
     "output_type": "stream",
     "text": [
      "_________________________________________________________________\n",
      "Layer (type)                 Output Shape              Param #   \n",
      "=================================================================\n",
      "dense_76 (Dense)             (None, 120)               94200     \n",
      "_________________________________________________________________\n",
      "activation_76 (Activation)   (None, 120)               0         \n",
      "_________________________________________________________________\n",
      "dense_77 (Dense)             (None, 20)                2420      \n",
      "_________________________________________________________________\n",
      "activation_77 (Activation)   (None, 20)                0         \n",
      "_________________________________________________________________\n",
      "dense_78 (Dense)             (None, 10)                210       \n",
      "_________________________________________________________________\n",
      "activation_78 (Activation)   (None, 10)                0         \n",
      "=================================================================\n",
      "Total params: 96,830\n",
      "Trainable params: 96,830\n",
      "Non-trainable params: 0\n",
      "_________________________________________________________________\n"
     ]
    }
   ],
   "source": [
    "# 建構我們的神經網路\n",
    "model = Sequential()\n",
    "\n",
    "model.add(Dense(120, input_dim = 784))\n",
    "model.add(Activation('relu'))\n",
    "\n",
    "model.add(Dense(20))\n",
    "model.add(Activation('relu'))\n",
    "\n",
    "model.add(Dense(10))\n",
    "model.add(Activation('softmax'))\n",
    "\n",
    "# 組裝\n",
    "model.compile(loss='mse', optimizer = SGD(lr = 0.3), metrics = ['accuracy'])\n",
    "# 檢視我們的神經網路\n",
    "model.summary()"
   ]
  },
  {
   "cell_type": "code",
   "execution_count": 103,
   "metadata": {},
   "outputs": [
    {
     "name": "stdout",
     "output_type": "stream",
     "text": [
      "Train on 60000 samples, validate on 10000 samples\n",
      "Epoch 1/20\n",
      "60000/60000 [==============================] - 4s 59us/step - loss: 0.0063 - acc: 0.9615 - val_loss: 0.0067 - val_acc: 0.9568\n",
      "Epoch 2/20\n",
      "60000/60000 [==============================] - 3s 53us/step - loss: 0.0061 - acc: 0.9631 - val_loss: 0.0066 - val_acc: 0.9574\n",
      "Epoch 3/20\n",
      "60000/60000 [==============================] - 3s 52us/step - loss: 0.0058 - acc: 0.9643 - val_loss: 0.0064 - val_acc: 0.9578\n",
      "Epoch 4/20\n",
      "60000/60000 [==============================] - 3s 55us/step - loss: 0.0056 - acc: 0.9662 - val_loss: 0.0062 - val_acc: 0.9604\n",
      "Epoch 5/20\n",
      "60000/60000 [==============================] - 3s 56us/step - loss: 0.0054 - acc: 0.9672 - val_loss: 0.0060 - val_acc: 0.9608\n",
      "Epoch 6/20\n",
      "60000/60000 [==============================] - 3s 53us/step - loss: 0.0052 - acc: 0.9688 - val_loss: 0.0059 - val_acc: 0.9607\n",
      "Epoch 7/20\n",
      "60000/60000 [==============================] - 3s 55us/step - loss: 0.0050 - acc: 0.9699 - val_loss: 0.0058 - val_acc: 0.9631\n",
      "Epoch 8/20\n",
      "60000/60000 [==============================] - 3s 55us/step - loss: 0.0049 - acc: 0.9709 - val_loss: 0.0057 - val_acc: 0.9640\n",
      "Epoch 9/20\n",
      "60000/60000 [==============================] - 3s 56us/step - loss: 0.0047 - acc: 0.9718 - val_loss: 0.0057 - val_acc: 0.9637\n",
      "Epoch 10/20\n",
      "60000/60000 [==============================] - 4s 60us/step - loss: 0.0046 - acc: 0.9731 - val_loss: 0.0055 - val_acc: 0.9639\n",
      "Epoch 11/20\n",
      "60000/60000 [==============================] - 3s 53us/step - loss: 0.0044 - acc: 0.9741 - val_loss: 0.0054 - val_acc: 0.9654\n",
      "Epoch 12/20\n",
      "60000/60000 [==============================] - 3s 58us/step - loss: 0.0043 - acc: 0.9750 - val_loss: 0.0053 - val_acc: 0.9655\n",
      "Epoch 13/20\n",
      "60000/60000 [==============================] - 3s 53us/step - loss: 0.0042 - acc: 0.9758 - val_loss: 0.0053 - val_acc: 0.9657\n",
      "Epoch 14/20\n",
      "60000/60000 [==============================] - 3s 55us/step - loss: 0.0041 - acc: 0.9768 - val_loss: 0.0052 - val_acc: 0.9667\n",
      "Epoch 15/20\n",
      "60000/60000 [==============================] - 3s 53us/step - loss: 0.0040 - acc: 0.9776 - val_loss: 0.0051 - val_acc: 0.9676\n",
      "Epoch 16/20\n",
      "60000/60000 [==============================] - 4s 59us/step - loss: 0.0039 - acc: 0.9781 - val_loss: 0.0051 - val_acc: 0.9675\n",
      "Epoch 17/20\n",
      "60000/60000 [==============================] - 3s 54us/step - loss: 0.0038 - acc: 0.9785 - val_loss: 0.0050 - val_acc: 0.9687\n",
      "Epoch 18/20\n",
      "60000/60000 [==============================] - 3s 55us/step - loss: 0.0037 - acc: 0.9791 - val_loss: 0.0049 - val_acc: 0.9685\n",
      "Epoch 19/20\n",
      "60000/60000 [==============================] - 4s 65us/step - loss: 0.0036 - acc: 0.9800 - val_loss: 0.0049 - val_acc: 0.9692\n",
      "Epoch 20/20\n",
      "60000/60000 [==============================] - 3s 57us/step - loss: 0.0035 - acc: 0.9807 - val_loss: 0.0048 - val_acc: 0.9701\n"
     ]
    },
    {
     "data": {
      "text/plain": [
       "<keras.callbacks.History at 0x1b9a7b6c3c8>"
      ]
     },
     "execution_count": 103,
     "metadata": {},
     "output_type": "execute_result"
    }
   ],
   "source": [
    "# 訓練神經網路\n",
    "model.fit(x_train,y_train, batch_size = 100, epochs = 20, verbose = 1, validation_data = (x_test, y_test))"
   ]
  },
  {
   "cell_type": "code",
   "execution_count": 104,
   "metadata": {},
   "outputs": [
    {
     "name": "stdout",
     "output_type": "stream",
     "text": [
      "10000/10000 [==============================] - 1s 52us/step\n",
      "loss: 0.004821601816320799\n",
      "正確率 0.9701\n"
     ]
    }
   ],
   "source": [
    "# 檢視正確率\n",
    "score = model.evaluate(x_test, y_test)\n",
    "\n",
    "print('loss:', score[0])\n",
    "print('正確率', score[1])"
   ]
  },
  {
   "cell_type": "code",
   "execution_count": 105,
   "metadata": {},
   "outputs": [],
   "source": [
    "# 試用我們的結果\n",
    "predict = model.predict_classes(x_test)\n",
    "\n",
    "def test(測試編號):\n",
    "    plt.imshow(x_test[測試編號].reshape(28,28), cmap='Greys')\n",
    "    print('神經網路判斷為:', predict[測試編號])"
   ]
  },
  {
   "cell_type": "code",
   "execution_count": 110,
   "metadata": {},
   "outputs": [
    {
     "name": "stdout",
     "output_type": "stream",
     "text": [
      "神經網路判斷為: 8\n"
     ]
    },
    {
     "data": {
      "image/png": "[encoded data removed]",
      "text/plain": [
       "<Figure size 432x288 with 1 Axes>"
      ]
     },
     "metadata": {
      "needs_background": "light"
     },
     "output_type": "display_data"
    }
   ],
   "source": [
    "test(7919)"
   ]
  },
  {
   "cell_type": "code",
   "execution_count": 111,
   "metadata": {},
   "outputs": [
    {
     "name": "stdout",
     "output_type": "stream",
     "text": [
      "神經網路判斷為: 7\n"
     ]
    },
    {
     "data": {
      "image/png": "[encoded data removed]",
      "text/plain": [
       "<Figure size 432x288 with 1 Axes>"
      ]
     },
     "metadata": {
      "needs_background": "light"
     },
     "output_type": "display_data"
    }
   ],
   "source": [
    "test(8606)"
   ]
  },
  {
   "cell_type": "code",
   "execution_count": 112,
   "metadata": {},
   "outputs": [
    {
     "name": "stdout",
     "output_type": "stream",
     "text": [
      "神經網路判斷為: 0\n"
     ]
    },
    {
     "data": {
      "image/png": "[encoded data removed]",
      "text/plain": [
       "<Figure size 432x288 with 1 Axes>"
      ]
     },
     "metadata": {
      "needs_background": "light"
     },
     "output_type": "display_data"
    }
   ],
   "source": [
    "test(4186)"
   ]
  },
  {
   "cell_type": "code",
   "execution_count": 107,
   "metadata": {},
   "outputs": [],
   "source": [
    "# 訓練好的神經網路存起來!\n",
    "model_json = model.to_json()\n",
    "open('stupid_model.json', 'w').write(model_json)\n",
    "model.save_weights('stupid_model_weights.h5')"
   ]
  },
  {
   "cell_type": "code",
   "execution_count": null,
   "metadata": {},
   "outputs": [],
   "source": []
  }
 ],
 "metadata": {
  "kernelspec": {
   "display_name": "Python 3",
   "language": "python",
   "name": "python3"
  },
  "language_info": {
   "codemirror_mode": {
    "name": "ipython",
    "version": 3
   },
   "file_extension": ".py",
   "mimetype": "text/x-python",
   "name": "python",
   "nbconvert_exporter": "python",
   "pygments_lexer": "ipython3",
   "version": "3.6.8"
  }
 },
 "nbformat": 4,
 "nbformat_minor": 2
}
